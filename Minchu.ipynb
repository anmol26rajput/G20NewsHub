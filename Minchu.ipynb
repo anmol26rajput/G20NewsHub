{
  "nbformat": 4,
  "nbformat_minor": 0,
  "metadata": {
    "kernelspec": {
      "display_name": "Python 3",
      "language": "python",
      "name": "python3"
    },
    "language_info": {
      "codemirror_mode": {
        "name": "ipython",
        "version": 3
      },
      "file_extension": ".py",
      "mimetype": "text/x-python",
      "name": "python",
      "nbconvert_exporter": "python",
      "pygments_lexer": "ipython3",
      "version": "3.7.6"
    },
    "colab": {
      "name": "Minchu.ipynb",
      "provenance": [],
      "include_colab_link": true
    }
  },
  "cells": [
    {
      "cell_type": "markdown",
      "metadata": {
        "id": "view-in-github",
        "colab_type": "text"
      },
      "source": [
        "<a href=\"https://colab.research.google.com/github/anmol26rajput/G20NewsHub/blob/main/Minchu.ipynb\" target=\"_parent\"><img src=\"https://colab.research.google.com/assets/colab-badge.svg\" alt=\"Open In Colab\"/></a>"
      ]
    },
    {
      "cell_type": "code",
      "metadata": {
        "id": "q3LOOCXP6eiG",
        "outputId": "66fd354f-f2d2-4733-99ac-761ebe7ce7c8",
        "colab": {
          "base_uri": "https://localhost:8080/",
          "height": 130
        }
      },
      "source": [
        "pip install SpeechRecognition\n",
        "pip install wikipedia\n",
        "pip install gTTS\n",
        "pip install ecapture\n",
        "pip install ipython\n",
        "pip install pyinstaller\n",
        "pip install selenium\n",
        "pip install playsound"
      ],
      "execution_count": 1,
      "outputs": [
        {
          "output_type": "error",
          "ename": "SyntaxError",
          "evalue": "ignored",
          "traceback": [
            "\u001b[0;36m  File \u001b[0;32m\"<ipython-input-1-e23acf728d0c>\"\u001b[0;36m, line \u001b[0;32m1\u001b[0m\n\u001b[0;31m    pip install SpeechRecognition\u001b[0m\n\u001b[0m        ^\u001b[0m\n\u001b[0;31mSyntaxError\u001b[0m\u001b[0;31m:\u001b[0m invalid syntax\n"
          ]
        }
      ]
    },
    {
      "cell_type": "code",
      "metadata": {
        "id": "_8dPoK6NFTMY",
        "outputId": "95875a7b-9788-4b7b-f15c-e9d0294867cc",
        "colab": {
          "base_uri": "https://localhost:8080/",
          "height": 373
        }
      },
      "source": [
        "import speech_recognition as sr\n",
        "import datetime\n",
        "import wikipedia\n",
        "import webbrowser\n",
        "import time\n",
        "import requests\n",
        "import subprocess #process various system commands like to log off or to restart your system\n",
        "from ecapture import ecapture as ec #for capturing photos \n",
        "import playsound # to play saved mp3 file \n",
        "from gtts import gTTS # google text to speech \n",
        "import os # to save/open files \n",
        "import wolframalpha # to calculate strings into formula \n",
        "from selenium import webdriver # to control browser operations "
      ],
      "execution_count": 2,
      "outputs": [
        {
          "output_type": "error",
          "ename": "ModuleNotFoundError",
          "evalue": "ignored",
          "traceback": [
            "\u001b[0;31m---------------------------------------------------------------------------\u001b[0m",
            "\u001b[0;31mModuleNotFoundError\u001b[0m                       Traceback (most recent call last)",
            "\u001b[0;32m<ipython-input-2-9de15614d719>\u001b[0m in \u001b[0;36m<cell line: 1>\u001b[0;34m()\u001b[0m\n\u001b[0;32m----> 1\u001b[0;31m \u001b[0;32mimport\u001b[0m \u001b[0mspeech_recognition\u001b[0m \u001b[0;32mas\u001b[0m \u001b[0msr\u001b[0m\u001b[0;34m\u001b[0m\u001b[0;34m\u001b[0m\u001b[0m\n\u001b[0m\u001b[1;32m      2\u001b[0m \u001b[0;32mimport\u001b[0m \u001b[0mdatetime\u001b[0m\u001b[0;34m\u001b[0m\u001b[0;34m\u001b[0m\u001b[0m\n\u001b[1;32m      3\u001b[0m \u001b[0;32mimport\u001b[0m \u001b[0mwikipedia\u001b[0m\u001b[0;34m\u001b[0m\u001b[0;34m\u001b[0m\u001b[0m\n\u001b[1;32m      4\u001b[0m \u001b[0;32mimport\u001b[0m \u001b[0mwebbrowser\u001b[0m\u001b[0;34m\u001b[0m\u001b[0;34m\u001b[0m\u001b[0m\n\u001b[1;32m      5\u001b[0m \u001b[0;32mimport\u001b[0m \u001b[0mtime\u001b[0m\u001b[0;34m\u001b[0m\u001b[0;34m\u001b[0m\u001b[0m\n",
            "\u001b[0;31mModuleNotFoundError\u001b[0m: No module named 'speech_recognition'",
            "",
            "\u001b[0;31m---------------------------------------------------------------------------\u001b[0;32m\nNOTE: If your import is failing due to a missing package, you can\nmanually install dependencies using either !pip or !apt.\n\nTo view examples of installing some common dependencies, click the\n\"Open Examples\" button below.\n\u001b[0;31m---------------------------------------------------------------------------\u001b[0m\n"
          ],
          "errorDetails": {
            "actions": [
              {
                "action": "open_url",
                "actionText": "Open Examples",
                "url": "/notebooks/snippets/importing_libraries.ipynb"
              }
            ]
          }
        }
      ]
    },
    {
      "cell_type": "code",
      "metadata": {
        "id": "6QzT_P1l6eiJ"
      },
      "source": [
        "def talk():\n",
        "    input=sr.Recognizer()\n",
        "    with sr.Microphone() as source:\n",
        "        audio=input.listen(source)\n",
        "        data=\"\"\n",
        "        try:\n",
        "            data=input.recognize_google(audio)\n",
        "            print(\"Your question is, \" + data)\n",
        "            \n",
        "        except sr.UnknownValueError:\n",
        "            print(\"Sorry I did not hear your question, Please repeat again.\")\n",
        "        return data     \n",
        "       "
      ],
      "execution_count": null,
      "outputs": []
    },
    {
      "cell_type": "code",
      "metadata": {
        "id": "AhqfZjOj6eiM"
      },
      "source": [
        "def respond(output):\n",
        "    num=0\n",
        "    print(output)\n",
        "    num += 1\n",
        "    response=gTTS(text=output, lang='en')\n",
        "    file = str(num)+\".mp3\"\n",
        "    response.save(file)\n",
        "    \n",
        "    playsound.playsound(file, True)  \n",
        "    os.remove(file)"
      ],
      "execution_count": null,
      "outputs": []
    },
    {
      "cell_type": "code",
      "metadata": {
        "id": "5cdkDikC6eiR"
      },
      "source": [
        "if __name__=='__main__':\n",
        "    respond(\"Hi, I am Minchu your personal desktop assistant\")\n",
        "          \n",
        "    while(1):\n",
        "        \n",
        "        respond(\"How can I help you?\")\n",
        "        text=talk().lower()\n",
        "        \n",
        "        if text==0:\n",
        "            continue\n",
        "            \n",
        "        if \"stop\" in str(text) or \"exit\" in str(text) or \"bye\" in str(text):\n",
        "            respond(\"Ok bye and take care\")\n",
        "            break\n",
        "            \n",
        "        if 'wikipedia' in text:\n",
        "            respond('Searching Wikipedia')\n",
        "            text =text.replace(\"wikipedia\", \"\")\n",
        "            results = wikipedia.summary(text, sentences=3)\n",
        "            respond(\"According to Wikipedia\")\n",
        "            print(results)\n",
        "            respond(results)\n",
        "                  \n",
        "        elif 'time' in text:\n",
        "            strTime=datetime.datetime.now().strftime(\"%H:%M:%S\")\n",
        "            respond(f\"the time is {strTime}\")     \n",
        "        \n",
        "            \n",
        "        elif 'search'  in text:\n",
        "            text = text.replace(\"search\", \"\")\n",
        "            webbrowser.open_new_tab(text)\n",
        "            time.sleep(5)\n",
        "\n",
        "        elif \"camera\" in statement or \"take a photo\" in statement:\n",
        "            ec.capture(0,\"robo camera\",\"img.jpg\")\n",
        "        \n",
        "            \n",
        "        elif \"calculate\" or \"what is\" in text: \n",
        "                           \n",
        "            question=talk()\n",
        "            app_id=\"API key\"\n",
        "            client = wolframalpha.Client(app_id)\n",
        "            res = client.query(question)\n",
        "            answer = next(res.results).text\n",
        "            respond(\"The answer is \" + answer)\n",
        "            \n",
        "        elif 'who are you' in text or 'what can you do' in text:\n",
        "            respond('I am Minchu, your personal desktop assistant. I can fetch information for you, perform mathematical calculations, take photo, open applications, get weather details.')\n",
        "\n",
        "        elif 'open gmail' in text:\n",
        "            webbrowser.open_new_tab(\"https://www.gmail.com\")\n",
        "            respond(\"Gmail is open\")\n",
        "            time.sleep(5)\n",
        "\n",
        "        elif \"who made you\" in statement or \"who created you\" in statement or \"who discovered you\" in statement:\n",
        "            speak(\"I was built by Mirthula\")\n",
        "            print(\"I was built by Mirthula\")\n",
        "        \n",
        "        elif 'open google' in text:\n",
        "            webbrowser.open_new_tab(\"https://www.google.com\")\n",
        "            respond(\"Google is open\")\n",
        "            time.sleep(5)\n",
        "            \n",
        "        elif 'youtube' in text: \n",
        "            driver = webdriver.Chrome(r\"C:\\Users\\DhanushDhyan\\Downloads\\chromedriver_win32\\chromedriver.exe\") \n",
        "            driver.implicitly_wait(1) \n",
        "            driver.maximize_window()\n",
        "  \n",
        "            respond(\"Opening in youtube\") \n",
        "            indx = text.split().index('youtube') \n",
        "            query = text.split()[indx + 1:] \n",
        "            driver.get(\"http://www.youtube.com/results?search_query =\" + '+'.join(query)) \n",
        "        \n",
        "        elif \"weather\" in text:\n",
        "            respond(\"what is the city name\")\n",
        "            city_name=talk()\n",
        "            api_key=\"API key\"\n",
        "            base_url=\"https://api.openweathermap.org/data/2.5/weather?\"\n",
        "            complete_url=base_url+\"appid=\"+api_key+\"&q=\"+city_name\n",
        "            response = requests.get(complete_url)\n",
        "            x=response.json()\n",
        "            if x[\"cod\"]!=\"404\":\n",
        "                y=x[\"main\"]\n",
        "                current_temperature = y[\"temp\"]\n",
        "                current_humidiy = y[\"humidity\"]\n",
        "                z = x[\"weather\"]\n",
        "                weather_description = z[0][\"description\"]\n",
        "                respond(\" Temperature is \" +\n",
        "                      str(current_temperature) +\n",
        "                      \"\\n humidity in percentage is \" +\n",
        "                      str(current_humidiy) +\n",
        "                      \"\\n description  \" +\n",
        "                      str(weather_description))\n",
        "                \n",
        "        elif \"shut down\" in text:\n",
        "            respond(\"Ok , your system will shut down in 10 secs\")\n",
        "            subprocess.call([\"shutdown\", \"/l\"])        \n",
        "        \n",
        "        elif \"open word\" in text: \n",
        "            respond(\"Opening Microsoft Word\") \n",
        "            os.startfile('file location') \n",
        "        \n",
        "        else: \n",
        "  \n",
        "            respond(\"Application not available\") "
      ],
      "execution_count": null,
      "outputs": []
    }
  ]
}